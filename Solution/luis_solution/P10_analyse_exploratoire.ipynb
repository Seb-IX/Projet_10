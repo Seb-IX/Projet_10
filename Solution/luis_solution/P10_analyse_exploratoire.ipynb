{
 "cells": [
  {
   "cell_type": "markdown",
   "metadata": {},
   "source": [
    "# Analyse exploratoire du jeu de données\n",
    "## Fly me (chatbot)\n",
    "\n",
    "<img src=\"./img/logo.png\" style=\"text-align: center;\">\n",
    "\n",
    "Le but du projet est la création d'une MVP qui aidera les employés de Fly Me a réserver facilement un billet d'avion pour leurs vacances grâce a un chatbot qui aidrera les utilisateurs à choisir une offre de voyage.\n"
   ]
  },
  {
   "cell_type": "code",
   "execution_count": 1,
   "metadata": {},
   "outputs": [],
   "source": [
    "import pandas as pd\n",
    "import matplotlib.pyplot as plt\n",
    "import json\n",
    "import os"
   ]
  },
  {
   "cell_type": "code",
   "execution_count": 2,
   "metadata": {},
   "outputs": [
    {
     "name": "stdout",
     "output_type": "stream",
     "text": [
      "Dimensionnalité :  (1369, 5)\n"
     ]
    },
    {
     "data": {
      "text/html": [
       "<div>\n",
       "<style scoped>\n",
       "    .dataframe tbody tr th:only-of-type {\n",
       "        vertical-align: middle;\n",
       "    }\n",
       "\n",
       "    .dataframe tbody tr th {\n",
       "        vertical-align: top;\n",
       "    }\n",
       "\n",
       "    .dataframe thead th {\n",
       "        text-align: right;\n",
       "    }\n",
       "</style>\n",
       "<table border=\"1\" class=\"dataframe\">\n",
       "  <thead>\n",
       "    <tr style=\"text-align: right;\">\n",
       "      <th></th>\n",
       "      <th>user_id</th>\n",
       "      <th>turns</th>\n",
       "      <th>wizard_id</th>\n",
       "      <th>id</th>\n",
       "      <th>labels</th>\n",
       "    </tr>\n",
       "  </thead>\n",
       "  <tbody>\n",
       "    <tr>\n",
       "      <th>0</th>\n",
       "      <td>U22HTHYNP</td>\n",
       "      <td>[{'text': 'I'd like to book a trip to Atlantis...</td>\n",
       "      <td>U21DKG18C</td>\n",
       "      <td>e2c0fc6c-2134-4891-8353-ef16d8412c9a</td>\n",
       "      <td>{'userSurveyRating': 4.0, 'wizardSurveyTaskSuc...</td>\n",
       "    </tr>\n",
       "    <tr>\n",
       "      <th>1</th>\n",
       "      <td>U21E41CQP</td>\n",
       "      <td>[{'text': 'Hello, I am looking to book a vacat...</td>\n",
       "      <td>U21DMV0KA</td>\n",
       "      <td>4a3bfa39-2c22-42c8-8694-32b4e34415e9</td>\n",
       "      <td>{'userSurveyRating': 3.0, 'wizardSurveyTaskSuc...</td>\n",
       "    </tr>\n",
       "    <tr>\n",
       "      <th>2</th>\n",
       "      <td>U21RP4FCY</td>\n",
       "      <td>[{'text': 'Hello there i am looking to go on a...</td>\n",
       "      <td>U21E0179B</td>\n",
       "      <td>6e67ed28-e94c-4fab-96b6-68569a92682f</td>\n",
       "      <td>{'userSurveyRating': 2.0, 'wizardSurveyTaskSuc...</td>\n",
       "    </tr>\n",
       "    <tr>\n",
       "      <th>3</th>\n",
       "      <td>U22HTHYNP</td>\n",
       "      <td>[{'text': 'Hi I'd like to go to Caprica from B...</td>\n",
       "      <td>U21DKG18C</td>\n",
       "      <td>5ae76e50-5b48-4166-9f6d-67aaabd7bcaa</td>\n",
       "      <td>{'userSurveyRating': 5.0, 'wizardSurveyTaskSuc...</td>\n",
       "    </tr>\n",
       "    <tr>\n",
       "      <th>4</th>\n",
       "      <td>U21E41CQP</td>\n",
       "      <td>[{'text': 'Hello, I am looking to book a trip ...</td>\n",
       "      <td>U21DMV0KA</td>\n",
       "      <td>24603086-bb53-431e-a0d8-1dcc63518ba9</td>\n",
       "      <td>{'userSurveyRating': 5.0, 'wizardSurveyTaskSuc...</td>\n",
       "    </tr>\n",
       "  </tbody>\n",
       "</table>\n",
       "</div>"
      ],
      "text/plain": [
       "     user_id                                              turns  wizard_id  \\\n",
       "0  U22HTHYNP  [{'text': 'I'd like to book a trip to Atlantis...  U21DKG18C   \n",
       "1  U21E41CQP  [{'text': 'Hello, I am looking to book a vacat...  U21DMV0KA   \n",
       "2  U21RP4FCY  [{'text': 'Hello there i am looking to go on a...  U21E0179B   \n",
       "3  U22HTHYNP  [{'text': 'Hi I'd like to go to Caprica from B...  U21DKG18C   \n",
       "4  U21E41CQP  [{'text': 'Hello, I am looking to book a trip ...  U21DMV0KA   \n",
       "\n",
       "                                     id  \\\n",
       "0  e2c0fc6c-2134-4891-8353-ef16d8412c9a   \n",
       "1  4a3bfa39-2c22-42c8-8694-32b4e34415e9   \n",
       "2  6e67ed28-e94c-4fab-96b6-68569a92682f   \n",
       "3  5ae76e50-5b48-4166-9f6d-67aaabd7bcaa   \n",
       "4  24603086-bb53-431e-a0d8-1dcc63518ba9   \n",
       "\n",
       "                                              labels  \n",
       "0  {'userSurveyRating': 4.0, 'wizardSurveyTaskSuc...  \n",
       "1  {'userSurveyRating': 3.0, 'wizardSurveyTaskSuc...  \n",
       "2  {'userSurveyRating': 2.0, 'wizardSurveyTaskSuc...  \n",
       "3  {'userSurveyRating': 5.0, 'wizardSurveyTaskSuc...  \n",
       "4  {'userSurveyRating': 5.0, 'wizardSurveyTaskSuc...  "
      ]
     },
     "execution_count": 2,
     "metadata": {},
     "output_type": "execute_result"
    }
   ],
   "source": [
    "df = pd.read_json(\"./data/frames.json\")\n",
    "print(\"Dimensionnalité : \", df.shape)\n",
    "df.head()"
   ]
  },
  {
   "cell_type": "markdown",
   "metadata": {},
   "source": [
    "Voici les propriétés des colonnes : \n",
    "\n",
    "<table>\n",
    "    <tr>\n",
    "        <th>user_id</th>\n",
    "        <th colspan=\"4\">turns</th>\n",
    "        <th>wizard_id</th>\n",
    "        <th>id</th>\n",
    "        <th colspan=\"2\">labels</th>\n",
    "    </tr>\n",
    "    <tr style=\"text-align:center;\">\n",
    "        <td></td>\n",
    "        <td>author</td>\n",
    "        <td>text</td>\n",
    "        <td>labels</td>\n",
    "        <td>timestamp</td>\n",
    "        <td></td>\n",
    "        <td></td>\n",
    "        <td>userSurveyRating</td>\n",
    "        <td>wizardSurveyTaskSuccessful</td>\n",
    "    </tr>\n",
    "    <tr>\n",
    "        <td>Désigne un identifiant unique pour l'utilisateur participant au dialogue.</td>\n",
    "        <td>L'auteur du message dans un dialogue, c'est-à-dire \"utilisateur\" ou \"assistant\".</td>\n",
    "        <td>La phrase que l'auteur a prononcé. C'est le texte exact que l'auteur d'un dialogue a dit. Par exemple, \"texte\" : \"Considérez que c'est fait. Bon voyage !\".</td>\n",
    "        <td>Objet JSON qui possède trois clés : <br>  <br>  active_frame, acts, et acts_without_refs. <br> <br> La clé active_frame est l'identifiant de l'image actuellement active. Les actes sont les actes de dialogue pour l'énoncé actuel <br> <br> Chaque acte a un nom et des arguments args. <br> Le nom est le nom de l'acte de dialogue, par exemple, offrir, ou informer.  <br> Les arguments contiennent les types de slot (key) et les valeurs de slot (val), par exemple budget=2000$. Les valeurs des slots sont facultatives.  <br> <br> Un acte contient une balise ref chaque fois qu'un utilisateur ou un assistant fait référence à une image passée.<br><br> Les actes_without_refs sont similaires aux actes, sauf qu'ils n'ont pas ces balises ref. <br>  <br> Nous définissons la tâche de suivi de <br> trame comme la tâche qui prend en entrée les acts_without_refs et produit les actes.\n",
    "        </td>\n",
    "        <td>Horodatage Unix indiquant l'heure à laquelle le tour actuel s'est produit.</td>\n",
    "        <td>Désigne un identifiant unique pour l'assistant qui participe au dialogue.</td>\n",
    "        <td>Désigne une identification unique pour le dialogue.</td>\n",
    "        <td>Une valeur qui représente la satisfaction de l'utilisateur à l'égard du service de l'assistant, allant de 1 - insatisfaction totale à 5 - satisfaction totale.</td>\n",
    "        <td>Un booléen qui est vrai si l'assistant pense à la fin du dialogue que l'objectif de l'utilisateur a été atteint.</td>\n",
    "    </tr>\n",
    "</table>\n",
    "\n",
    "source : https://www.microsoft.com/en-us/research/project/frames-dataset/download/\n",
    "\n",
    "On peut ensuite analyser plus en détail la colonne labels puis turns."
   ]
  },
  {
   "cell_type": "code",
   "execution_count": 3,
   "metadata": {},
   "outputs": [
    {
     "data": {
      "text/plain": [
       "dict_keys(['userSurveyRating', 'wizardSurveyTaskSuccessful'])"
      ]
     },
     "execution_count": 3,
     "metadata": {},
     "output_type": "execute_result"
    }
   ],
   "source": [
    "df[\"labels\"][0].keys()"
   ]
  },
  {
   "cell_type": "code",
   "execution_count": 4,
   "metadata": {},
   "outputs": [
    {
     "data": {
      "text/html": [
       "<div>\n",
       "<style scoped>\n",
       "    .dataframe tbody tr th:only-of-type {\n",
       "        vertical-align: middle;\n",
       "    }\n",
       "\n",
       "    .dataframe tbody tr th {\n",
       "        vertical-align: top;\n",
       "    }\n",
       "\n",
       "    .dataframe thead th {\n",
       "        text-align: right;\n",
       "    }\n",
       "</style>\n",
       "<table border=\"1\" class=\"dataframe\">\n",
       "  <thead>\n",
       "    <tr style=\"text-align: right;\">\n",
       "      <th></th>\n",
       "      <th>userSurveyRating</th>\n",
       "      <th>wizardSurveyTaskSuccessful</th>\n",
       "    </tr>\n",
       "  </thead>\n",
       "  <tbody>\n",
       "    <tr>\n",
       "      <th>0</th>\n",
       "      <td>4.0</td>\n",
       "      <td>True</td>\n",
       "    </tr>\n",
       "    <tr>\n",
       "      <th>1</th>\n",
       "      <td>3.0</td>\n",
       "      <td>True</td>\n",
       "    </tr>\n",
       "  </tbody>\n",
       "</table>\n",
       "</div>"
      ],
      "text/plain": [
       "   userSurveyRating  wizardSurveyTaskSuccessful\n",
       "0               4.0                        True\n",
       "1               3.0                        True"
      ]
     },
     "execution_count": 4,
     "metadata": {},
     "output_type": "execute_result"
    }
   ],
   "source": [
    "satisfaction_df = pd.json_normalize(df[\"labels\"])\n",
    "satisfaction_df.head(2)"
   ]
  },
  {
   "cell_type": "code",
   "execution_count": 5,
   "metadata": {},
   "outputs": [],
   "source": [
    "df[\"userSurveyRating\"] = satisfaction_df[\"userSurveyRating\"]\n",
    "df[\"wizardSurveyTaskSuccessful\"] = satisfaction_df[\"wizardSurveyTaskSuccessful\"]"
   ]
  },
  {
   "cell_type": "code",
   "execution_count": 6,
   "metadata": {},
   "outputs": [
    {
     "name": "stdout",
     "output_type": "stream",
     "text": [
      "Il y a un total de 82 dialogues qui n'ont pas aboutie à une réponse convenable de l'assistant.\n"
     ]
    }
   ],
   "source": [
    "print(\"Il y a un total de\", df[df[\"wizardSurveyTaskSuccessful\"] == False].shape[0], \"dialogues qui n'ont pas abouti à une réponse convenable de l'assistant.\")"
   ]
  },
  {
   "cell_type": "code",
   "execution_count": 7,
   "metadata": {},
   "outputs": [
    {
     "data": {
      "text/html": [
       "<div>\n",
       "<style scoped>\n",
       "    .dataframe tbody tr th:only-of-type {\n",
       "        vertical-align: middle;\n",
       "    }\n",
       "\n",
       "    .dataframe tbody tr th {\n",
       "        vertical-align: top;\n",
       "    }\n",
       "\n",
       "    .dataframe thead th {\n",
       "        text-align: right;\n",
       "    }\n",
       "</style>\n",
       "<table border=\"1\" class=\"dataframe\">\n",
       "  <thead>\n",
       "    <tr style=\"text-align: right;\">\n",
       "      <th></th>\n",
       "      <th>user_id</th>\n",
       "      <th>turns</th>\n",
       "      <th>wizard_id</th>\n",
       "      <th>id</th>\n",
       "      <th>labels</th>\n",
       "      <th>userSurveyRating</th>\n",
       "      <th>wizardSurveyTaskSuccessful</th>\n",
       "    </tr>\n",
       "  </thead>\n",
       "  <tbody>\n",
       "    <tr>\n",
       "      <th>0</th>\n",
       "      <td>U22HTHYNP</td>\n",
       "      <td>[{'text': 'I'd like to book a trip to Atlantis...</td>\n",
       "      <td>U21DKG18C</td>\n",
       "      <td>e2c0fc6c-2134-4891-8353-ef16d8412c9a</td>\n",
       "      <td>{'userSurveyRating': 4.0, 'wizardSurveyTaskSuc...</td>\n",
       "      <td>4.0</td>\n",
       "      <td>True</td>\n",
       "    </tr>\n",
       "    <tr>\n",
       "      <th>1</th>\n",
       "      <td>U21E41CQP</td>\n",
       "      <td>[{'text': 'Hello, I am looking to book a vacat...</td>\n",
       "      <td>U21DMV0KA</td>\n",
       "      <td>4a3bfa39-2c22-42c8-8694-32b4e34415e9</td>\n",
       "      <td>{'userSurveyRating': 3.0, 'wizardSurveyTaskSuc...</td>\n",
       "      <td>3.0</td>\n",
       "      <td>True</td>\n",
       "    </tr>\n",
       "  </tbody>\n",
       "</table>\n",
       "</div>"
      ],
      "text/plain": [
       "     user_id                                              turns  wizard_id  \\\n",
       "0  U22HTHYNP  [{'text': 'I'd like to book a trip to Atlantis...  U21DKG18C   \n",
       "1  U21E41CQP  [{'text': 'Hello, I am looking to book a vacat...  U21DMV0KA   \n",
       "\n",
       "                                     id  \\\n",
       "0  e2c0fc6c-2134-4891-8353-ef16d8412c9a   \n",
       "1  4a3bfa39-2c22-42c8-8694-32b4e34415e9   \n",
       "\n",
       "                                              labels  userSurveyRating  \\\n",
       "0  {'userSurveyRating': 4.0, 'wizardSurveyTaskSuc...               4.0   \n",
       "1  {'userSurveyRating': 3.0, 'wizardSurveyTaskSuc...               3.0   \n",
       "\n",
       "   wizardSurveyTaskSuccessful  \n",
       "0                        True  \n",
       "1                        True  "
      ]
     },
     "execution_count": 7,
     "metadata": {},
     "output_type": "execute_result"
    }
   ],
   "source": [
    "df.head(2)"
   ]
  },
  {
   "cell_type": "markdown",
   "metadata": {},
   "source": [
    "Ensuite même chose pour la colonne turns qui contient les informations sur les échanges bot/utilisateurs"
   ]
  },
  {
   "cell_type": "code",
   "execution_count": 8,
   "metadata": {},
   "outputs": [],
   "source": [
    "turns_serie = df['turns']"
   ]
  },
  {
   "cell_type": "code",
   "execution_count": 9,
   "metadata": {},
   "outputs": [],
   "source": [
    "turns_list = turns_serie.to_list()"
   ]
  },
  {
   "cell_type": "code",
   "execution_count": 10,
   "metadata": {},
   "outputs": [
    {
     "data": {
      "text/plain": [
       "dict_keys(['text', 'labels', 'author', 'timestamp'])"
      ]
     },
     "execution_count": 10,
     "metadata": {},
     "output_type": "execute_result"
    }
   ],
   "source": [
    "turns_list[0][0].keys()"
   ]
  },
  {
   "cell_type": "code",
   "execution_count": 11,
   "metadata": {},
   "outputs": [
    {
     "data": {
      "text/plain": [
       "\"I'd like to book a trip to Atlantis from Caprica on Saturday, August 13, 2016 for 8 adults. I have a tight budget of 1700.\""
      ]
     },
     "execution_count": 11,
     "metadata": {},
     "output_type": "execute_result"
    }
   ],
   "source": [
    "turns_list[0][0][\"text\"]"
   ]
  },
  {
   "cell_type": "code",
   "execution_count": 12,
   "metadata": {},
   "outputs": [
    {
     "data": {
      "text/plain": [
       "{'acts': [{'args': [{'val': 'book', 'key': 'intent'}], 'name': 'inform'},\n",
       "  {'args': [{'val': 'Atlantis', 'key': 'dst_city'},\n",
       "    {'val': 'Caprica', 'key': 'or_city'},\n",
       "    {'val': 'Saturday, August 13, 2016', 'key': 'str_date'},\n",
       "    {'val': '8', 'key': 'n_adults'},\n",
       "    {'val': '1700', 'key': 'budget'}],\n",
       "   'name': 'inform'}],\n",
       " 'acts_without_refs': [{'args': [{'val': 'book', 'key': 'intent'}],\n",
       "   'name': 'inform'},\n",
       "  {'args': [{'val': 'Atlantis', 'key': 'dst_city'},\n",
       "    {'val': 'Caprica', 'key': 'or_city'},\n",
       "    {'val': 'Saturday, August 13, 2016', 'key': 'str_date'},\n",
       "    {'val': '8', 'key': 'n_adults'},\n",
       "    {'val': '1700', 'key': 'budget'}],\n",
       "   'name': 'inform'}],\n",
       " 'active_frame': 1,\n",
       " 'frames': [{'info': {'intent': [{'val': 'book', 'negated': False}],\n",
       "    'budget': [{'val': '1700.0', 'negated': False}],\n",
       "    'dst_city': [{'val': 'Atlantis', 'negated': False}],\n",
       "    'or_city': [{'val': 'Caprica', 'negated': False}],\n",
       "    'str_date': [{'val': 'august 13', 'negated': False}],\n",
       "    'n_adults': [{'val': '8', 'negated': False}]},\n",
       "   'frame_id': 1,\n",
       "   'requests': [],\n",
       "   'frame_parent_id': None,\n",
       "   'binary_questions': [],\n",
       "   'compare_requests': []}]}"
      ]
     },
     "execution_count": 12,
     "metadata": {},
     "output_type": "execute_result"
    }
   ],
   "source": [
    "turns_list[0][0][\"labels\"]"
   ]
  },
  {
   "cell_type": "code",
   "execution_count": 13,
   "metadata": {},
   "outputs": [
    {
     "data": {
      "text/plain": [
       "dict_keys(['acts', 'acts_without_refs', 'active_frame', 'frames'])"
      ]
     },
     "execution_count": 13,
     "metadata": {},
     "output_type": "execute_result"
    }
   ],
   "source": [
    "turns_list[0][0][\"labels\"].keys()"
   ]
  },
  {
   "cell_type": "code",
   "execution_count": 14,
   "metadata": {},
   "outputs": [
    {
     "data": {
      "text/plain": [
       "'Hi...I checked a few options for you, and unfortunately, we do not currently have any trips that meet this criteria.  Would you like to book an alternate travel option?'"
      ]
     },
     "execution_count": 14,
     "metadata": {},
     "output_type": "execute_result"
    }
   ],
   "source": [
    "turns_list[0][1][\"text\"]"
   ]
  },
  {
   "cell_type": "code",
   "execution_count": 15,
   "metadata": {},
   "outputs": [
    {
     "data": {
      "text/plain": [
       "'user'"
      ]
     },
     "execution_count": 15,
     "metadata": {},
     "output_type": "execute_result"
    }
   ],
   "source": [
    "turns_list[1][0][\"author\"]"
   ]
  },
  {
   "cell_type": "code",
   "execution_count": 16,
   "metadata": {},
   "outputs": [
    {
     "data": {
      "text/plain": [
       "1471272019730.0"
      ]
     },
     "execution_count": 16,
     "metadata": {},
     "output_type": "execute_result"
    }
   ],
   "source": [
    "turns_list[0][0][\"timestamp\"]"
   ]
  },
  {
   "cell_type": "code",
   "execution_count": 17,
   "metadata": {},
   "outputs": [],
   "source": [
    "dic_author = {}\n",
    "for turns in turns_list:\n",
    "    for message in turns:\n",
    "        author = message[\"author\"]\n",
    "        if not author in dic_author.keys():\n",
    "            dic_author[author] = 1\n",
    "        else:\n",
    "            dic_author[author] += 1"
   ]
  },
  {
   "cell_type": "code",
   "execution_count": 18,
   "metadata": {},
   "outputs": [
    {
     "data": {
      "text/plain": [
       "{'user': 10407, 'wizard': 9579}"
      ]
     },
     "execution_count": 18,
     "metadata": {},
     "output_type": "execute_result"
    }
   ],
   "source": [
    "dic_author"
   ]
  },
  {
   "cell_type": "code",
   "execution_count": 19,
   "metadata": {},
   "outputs": [],
   "source": [
    "def get_key_value(arg):\n",
    "    if \"key\" in arg and \"val\" in arg:\n",
    "        if arg['val'] != \"-1\" and arg['val'] != None:\n",
    "            key = arg[\"key\"]\n",
    "            val = arg[\"val\"]\n",
    "            return (key,val)\n",
    "    return None"
   ]
  },
  {
   "cell_type": "code",
   "execution_count": 20,
   "metadata": {},
   "outputs": [
    {
     "data": {
      "text/plain": [
       "('str_date', 'Saturday, August 13, 2016')"
      ]
     },
     "execution_count": 20,
     "metadata": {},
     "output_type": "execute_result"
    }
   ],
   "source": [
    "get_key_value(turns_list[0][0][\"labels\"][\"acts\"][1][\"args\"][2])"
   ]
  },
  {
   "cell_type": "code",
   "execution_count": 21,
   "metadata": {},
   "outputs": [],
   "source": [
    "all_value = {}\n",
    "for conversation in turns_list[:1]:\n",
    "    for message in conversation:\n",
    "        # On récupére uniquement les echanges du user\n",
    "        if message[\"author\"] == \"user\":\n",
    "            acts = message[\"labels\"][\"acts\"]\n",
    "            for act in acts:\n",
    "                if act[\"args\"]:\n",
    "                    for arg in act[\"args\"]:\n",
    "                        key , value = get_key_value(arg)\n",
    "                        if key in all_value:\n",
    "                            all_value[key].append(value)\n",
    "                        else:\n",
    "                            all_value[key] = [value]"
   ]
  },
  {
   "cell_type": "code",
   "execution_count": 22,
   "metadata": {},
   "outputs": [
    {
     "data": {
      "text/plain": [
       "{'intent': ['book'],\n",
       " 'dst_city': ['Atlantis', 'Neverland'],\n",
       " 'or_city': ['Caprica', 'Atlantis'],\n",
       " 'str_date': ['Saturday, August 13, 2016'],\n",
       " 'n_adults': ['8', '5'],\n",
       " 'budget': ['1700', '1900'],\n",
       " 'ref': [[{'annotations': [{'val': 'Caprica', 'key': 'or_city'},\n",
       "     {'val': 'August 13, 2016', 'key': 'str_date'}],\n",
       "    'frame': 1,\n",
       "    'fromrange': False}],\n",
       "  [{'annotations': [{'val': 'Caprica', 'key': 'or_city'}],\n",
       "    'frame': 1,\n",
       "    'fromrange': False}]],\n",
       " 'flex': [False]}"
      ]
     },
     "execution_count": 22,
     "metadata": {},
     "output_type": "execute_result"
    }
   ],
   "source": [
    "all_value"
   ]
  },
  {
   "cell_type": "markdown",
   "metadata": {},
   "source": [
    "On remarque que les clés 'ref' ont une couche supplémentaire (pour rappel les 'refs' sont les références au message ultérieur).\n",
    "\n",
    "Il convient donc d'appliquer des modifications pour mieux interpréter ce pattern"
   ]
  },
  {
   "cell_type": "code",
   "execution_count": 26,
   "metadata": {},
   "outputs": [],
   "source": [
    "all_value = {}\n",
    "for conversation in turns_list[:1000]:\n",
    "    for message in conversation:\n",
    "        # On récupére uniquement les echanges du user\n",
    "        if message[\"author\"] == \"user\":\n",
    "            acts = message[\"labels\"][\"acts\"]\n",
    "            for act in acts:\n",
    "                if act[\"args\"]:\n",
    "                    for arg in act[\"args\"]:\n",
    "                        if not arg[\"key\"] == \"ref\":\n",
    "                            data = get_key_value(arg)\n",
    "                            if data:\n",
    "                                key, value = data\n",
    "                            if key in all_value:\n",
    "                                all_value[key].append(value)\n",
    "                            else:\n",
    "                                all_value[key] = [value]\n",
    "                        else:\n",
    "                            # Les ref (on référence au conversation passé) sont à manipuler différement car il y a une couche supplémentaire\n",
    "                            annotations_list = arg['val'][0]['annotations']\n",
    "                            if annotations_list:\n",
    "                                for annotation_value in annotations_list:\n",
    "                                    data = get_key_value(annotation_value)\n",
    "                                if data:\n",
    "                                    key, value = data\n",
    "                                if key in all_value:\n",
    "                                    all_value[key].append(value)\n",
    "                                else:\n",
    "                                    all_value[key] = [value]"
   ]
  },
  {
   "cell_type": "code",
   "execution_count": 27,
   "metadata": {},
   "outputs": [
    {
     "data": {
      "text/plain": [
       "dict_keys(['intent', 'dst_city', 'or_city', 'str_date', 'n_adults', 'budget', 'flex', 'max_duration', 'n_children', 'end_date', 'seat', 'category', 'breakfast', 'seat_ok', 'gst_rating', 'downtown', 'spa', 'min_duration', 'wifi', 'duration', 'price', 'count', 'budget_ok', 'intent_ok', 'parking', 'name', 'beach', 'count_name', 'ref_anaphora', 'museum', 'park', 'impl_anaphora', 'mall', 'shopping', 'count_dst_city', 'cathedral', 'university', 'action'])"
      ]
     },
     "execution_count": 27,
     "metadata": {},
     "output_type": "execute_result"
    }
   ],
   "source": [
    "all_value.keys()"
   ]
  },
  {
   "cell_type": "code",
   "execution_count": 28,
   "metadata": {},
   "outputs": [
    {
     "name": "stdout",
     "output_type": "stream",
     "text": [
      "Clé et valeur intéressante pour notre contexte :\n",
      " - ville d'arrivé (dst_city): ['Atlantis', 'Neverland', 'Mos Eisley', 'Neverland', 'Mos Eisley']\n",
      " - ville de départ (or_city): ['Caprica', 'Atlantis', 'Gotham City', 'Gotham City', 'Birmingham']\n",
      " - date du départ (str_date): ['Saturday, August 13, 2016', 'Sunday August 21, 2016', '17th of August', 'Saturday, August 13, 2016', 'August 27']\n",
      " - date de retours (end_date): ['Wednesday August 31, 2016', 'Wednesday August 31, 2016', '31st', 'Tuesday, August 16, 2016', 'Wednesday, August 31, 2016']\n",
      " - nombre de place adulte (n_adults): ['8', '5', '5', '2', '2']\n",
      " - Nombre de place enfant (n_children): ['12', '6', 'four', 'four', 'four']\n",
      " - Tarif du voyage maximum (budget): ['1700', '1900', '2100', '$2500', '$2200']\n",
      " - classe des places dans l'avion (seat): ['economy', 'business', 'Business', 'upgrade', 'upgrade']\n"
     ]
    }
   ],
   "source": [
    "print(\"Clés et valeurs intéressantes pour notre contexte :\")\n",
    "print(\" - ville d'arrivé (dst_city):\",all_value[\"dst_city\"][:5])\n",
    "\n",
    "print(\" - ville de départ (or_city):\",all_value[\"or_city\"][:5])\n",
    "\n",
    "print(\" - date du départ (str_date):\",all_value[\"str_date\"][:5])\n",
    "\n",
    "print(\" - date de retours (end_date):\",all_value[\"end_date\"][:5])\n",
    "\n",
    "print(\" - nombre de place adulte (n_adults):\",all_value[\"n_adults\"][:5])\n",
    "\n",
    "print(\" - Nombre de place enfant (n_children):\",all_value[\"n_children\"][:5])\n",
    "\n",
    "print(\" - Tarif du voyage maximum (budget):\",all_value[\"budget\"][:5])\n",
    "\n",
    "print(\" - classe des places dans l'avion (seat):\",all_value[\"seat\"][:5])"
   ]
  },
  {
   "cell_type": "markdown",
   "metadata": {},
   "source": [
    "On peut retenir comme liste de clés utiles pour notre bot les clés suivantes : \n",
    "- 'dst_city'\n",
    "- 'or_city'\n",
    "- 'str_date'\n",
    "- 'end_date'\n",
    "- 'n_adult'\n",
    "- 'n_children'\n",
    "- 'budget'\n",
    "- 'seat'"
   ]
  },
  {
   "cell_type": "code",
   "execution_count": 58,
   "metadata": {},
   "outputs": [],
   "source": [
    "def format_data_luis(intent, text, labels):\n",
    "    '''Cette fonction permet le formatage des dialogues au format de données LUIS\n",
    "    \n",
    "    Parameters:\n",
    "        intent (str) : intention utilisateur, qui correspond au nommage LUIS pour l\\'apprentissage, (définis le domaine d\\'intention)\n",
    "        text (str) : texte formulé par l\\'utilisateur\n",
    "        labels (list/tuple => tuple) : liste des labels récupérer du texte utilisateur avec la clé correspondante\n",
    "\n",
    "    Returns:\n",
    "        format_data (dict) : retourne un format de donnée utilisable par LUIS => \n",
    "        {\n",
    "            \\'texte\\':\\'le texte de l'utilisateur.\\',\n",
    "            \\'intent_name\\'=\\'Exemple\\',\n",
    "            \\'entity_labels\\':[\n",
    "                {\n",
    "                    \\'entity_name':\\'wordText\\',\n",
    "                    \\'start_char_index\\':3,\n",
    "                    \\'end_char_index\\':8\n",
    "                }\n",
    "            ]\n",
    "        }\n",
    "    '''\n",
    "    text = text.lower()\n",
    "\n",
    "    def entity_format(name, value):\n",
    "        '''Cette fonction est une fonction interne pour formater les entity_label\n",
    "        '''\n",
    "        # on récupére la taille et le début de l'index de la value sur le text pour avoir le début et la fin de la value dans le texte\n",
    "        value = value.lower()\n",
    "        start = text.index(value)\n",
    "        return dict(entity_name=name, start_char_index=start,\n",
    "                    end_char_index=start + len(value))\n",
    "\n",
    "    return dict(text=text, intent_name=intent,\n",
    "                entity_labels=[entity_format(n, v) for (n, v) in labels])"
   ]
  },
  {
   "cell_type": "code",
   "execution_count": 59,
   "metadata": {},
   "outputs": [],
   "source": [
    "def get_key_value(arg):\n",
    "    '''On recupère la clé et valeur de l\\'argument fourni pour les clés suivantes : \"dst_city\",\"or_city\",\"str_date\",\"end_date\",\"n_adult\",\"n_children\",\"budget\",\"seat\"\n",
    "\n",
    "    Parameters :\n",
    "        arg (tuple) : argument de l\\'intention utilisateur au format tuple.\n",
    "        \n",
    "    Returns:\n",
    "        key_value (tuple) : retourne la clé/valeur de l\\'argument au format tuple si il correspond à la liste de clé.\n",
    "        OR\n",
    "        None : si la valeur n'est pas formaté correctement ou que la clé n\\'est pas dans la liste citée précédemment\n",
    "    '''\n",
    "    list_key = ['dst_city','or_city','str_date','end_date','n_adult','n_children','budget','seat']\n",
    "    if \"key\" in arg and \"val\" in arg:\n",
    "        if arg[\"key\"] in list_key and arg['val'] != \"-1\" and arg['val'] != None:\n",
    "            return (arg[\"key\"],arg[\"val\"])\n",
    "    return None"
   ]
  },
  {
   "cell_type": "code",
   "execution_count": 51,
   "metadata": {},
   "outputs": [],
   "source": [
    "final_data = []\n",
    "for conversation in turns_list:\n",
    "    for message in conversation:\n",
    "        # On récupére uniquement les echanges du user\n",
    "        if message[\"author\"] == \"user\":\n",
    "            text = message[\"text\"]\n",
    "            acts = message[\"labels\"][\"acts\"]\n",
    "            conversation_list = []\n",
    "            for act in acts:\n",
    "                if act[\"args\"]:\n",
    "                    for arg in act[\"args\"]:\n",
    "                        if not arg[\"key\"] == \"ref\":\n",
    "                            data = get_key_value(arg)\n",
    "                            if data:\n",
    "                                conversation_list.append(data)\n",
    "                        else:\n",
    "                            annotations_list = arg['val'][0]['annotations']\n",
    "                            if annotations_list:\n",
    "                                for annotation_value in annotations_list:\n",
    "                                    data = get_key_value(annotation_value)\n",
    "                                if data:\n",
    "                                    conversation_list.append(data)\n",
    "            if conversation_list:\n",
    "                final_data.append(format_data_luis(\"BookFlight\", text, conversation_list))\n"
   ]
  },
  {
   "cell_type": "code",
   "execution_count": 52,
   "metadata": {},
   "outputs": [
    {
     "data": {
      "text/plain": [
       "{'text': \"i'd like to book a trip to atlantis from caprica on saturday, august 13, 2016 for 8 adults. i have a tight budget of 1700.\",\n",
       " 'intent_name': 'BookFlight',\n",
       " 'entity_labels': [{'entity_name': 'dst_city',\n",
       "   'start_char_index': 27,\n",
       "   'end_char_index': 35},\n",
       "  {'entity_name': 'or_city', 'start_char_index': 41, 'end_char_index': 48},\n",
       "  {'entity_name': 'str_date', 'start_char_index': 52, 'end_char_index': 77},\n",
       "  {'entity_name': 'budget', 'start_char_index': 117, 'end_char_index': 121}]}"
      ]
     },
     "execution_count": 52,
     "metadata": {},
     "output_type": "execute_result"
    }
   ],
   "source": [
    "final_data[0]"
   ]
  }
 ],
 "metadata": {
  "interpreter": {
   "hash": "ac59ebe37160ed0dfa835113d9b8498d9f09ceb179beaac4002f036b9467c963"
  },
  "kernelspec": {
   "display_name": "Python 3.9.2 64-bit",
   "language": "python",
   "name": "python3"
  },
  "language_info": {
   "codemirror_mode": {
    "name": "ipython",
    "version": 3
   },
   "file_extension": ".py",
   "mimetype": "text/x-python",
   "name": "python",
   "nbconvert_exporter": "python",
   "pygments_lexer": "ipython3",
   "version": "3.9.2"
  },
  "orig_nbformat": 4
 },
 "nbformat": 4,
 "nbformat_minor": 2
}
